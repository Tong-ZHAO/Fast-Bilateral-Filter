{
 "cells": [
  {
   "cell_type": "code",
   "execution_count": 1,
   "metadata": {},
   "outputs": [],
   "source": [
    "import os, sys\n",
    "#sys.path.append(\"/Library/Frameworks/Python.framework/Versions/3.7/lib/python3.7/site-packages\")"
   ]
  },
  {
   "cell_type": "code",
   "execution_count": 2,
   "metadata": {},
   "outputs": [],
   "source": [
    "from skimage.io import imread, imsave\n",
    "\n",
    "import numpy as np"
   ]
  },
  {
   "cell_type": "code",
   "execution_count": 3,
   "metadata": {},
   "outputs": [],
   "source": [
    "PATH_TO_DATA = os.getcwd() + '/../data/test_set/'\n",
    "data_sets = ['art', 'books', 'mobius']\n",
    "ref_name = 'reference_big.png'\n",
    "tar_name = 'target.png'"
   ]
  },
  {
   "cell_type": "code",
   "execution_count": 5,
   "metadata": {},
   "outputs": [
    {
     "name": "stdout",
     "output_type": "stream",
     "text": [
      "(1088, 1376, 3)\n",
      "(1088, 1376)\n",
      "(1088, 1376, 3)\n",
      "(1088, 1376)\n",
      "(1088, 1376, 3)\n",
      "(1088, 1376)\n"
     ]
    }
   ],
   "source": [
    "for data_set in data_sets:\n",
    "    ref = imread(os.path.join(PATH_TO_DATA, data_set, ref_name))\n",
    "    tar = imread(os.path.join(PATH_TO_DATA, data_set, tar_name))\n",
    "\n",
    "    r_row, r_col, _ = ref.shape\n",
    "    t_row, t_col = tar.shape\n",
    "    \n",
    "    assert(t_row < r_row and t_col < r_col)\n",
    "    \n",
    "    shift_row = (r_row - t_row) // 2\n",
    "    shift_col = (r_col - t_col) // 2\n",
    "    \n",
    "    out = ref[shift_row:r_row-shift_row, shift_col:r_col-shift_col]\n",
    "    print(out.shape)\n",
    "    print(tar.shape)\n",
    "    imsave(os.path.join(PATH_TO_DATA, data_set, 'reference.png'), out)\n",
    "    "
   ]
  },
  {
   "cell_type": "code",
   "execution_count": null,
   "metadata": {},
   "outputs": [],
   "source": []
  }
 ],
 "metadata": {
  "kernelspec": {
   "display_name": "Python 3",
   "language": "python",
   "name": "python3"
  },
  "language_info": {
   "codemirror_mode": {
    "name": "ipython",
    "version": 3
   },
   "file_extension": ".py",
   "mimetype": "text/x-python",
   "name": "python",
   "nbconvert_exporter": "python",
   "pygments_lexer": "ipython3",
   "version": "3.5.2"
  }
 },
 "nbformat": 4,
 "nbformat_minor": 2
}
