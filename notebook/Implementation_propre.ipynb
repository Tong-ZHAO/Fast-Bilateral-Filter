{
 "cells": [
  {
   "cell_type": "code",
   "execution_count": null,
   "metadata": {},
   "outputs": [],
   "source": [
    "import os, sys\n",
    "#sys.path.append(\"/Library/Frameworks/Python.framework/Versions/3.7/lib/python3.7/site-packages\")"
   ]
  },
  {
   "cell_type": "code",
   "execution_count": null,
   "metadata": {},
   "outputs": [],
   "source": [
    "from scipy.sparse import csr_matrix, eye, diags\n",
    "from scipy.sparse.linalg import cg\n",
    "from skimage.io import imread\n",
    "\n",
    "import cv2\n",
    "import matplotlib.pyplot as plt\n",
    "import numpy as np"
   ]
  },
  {
   "cell_type": "markdown",
   "metadata": {},
   "source": [
    "# Params"
   ]
  },
  {
   "cell_type": "code",
   "execution_count": null,
   "metadata": {},
   "outputs": [],
   "source": [
    "PATH_TO_DATA = os.getcwd() + '/../data/test_set/mobius'\n",
    "grid_params = {'sigma_spatial': 8, \n",
    "               'sigma_luma': 4, \n",
    "               'sigma_chroma': 4}\n",
    "solver_params = {'max_iter_bisto': 10,\n",
    "                 'max_iter_cg': 25,\n",
    "                 'lambda': 128}"
   ]
  },
  {
   "cell_type": "markdown",
   "metadata": {},
   "source": [
    "# Data"
   ]
  },
  {
   "cell_type": "code",
   "execution_count": null,
   "metadata": {},
   "outputs": [],
   "source": [
    "def read_images(file_path, file_names):\n",
    "    \"\"\"Read images in a same folder\n",
    "    \n",
    "    Params:\n",
    "        file_path (str): folder path\n",
    "        file_names (list): list of file names\n",
    "        \n",
    "    Returns:\n",
    "        imgs (list): list of images\n",
    "    \"\"\"\n",
    "    \n",
    "    imgs = [imread(os.path.join(file_path, name)) for name in file_names]\n",
    "    \n",
    "    print(\"Load %d images!\" % len(imgs))\n",
    "\n",
    "    return imgs"
   ]
  },
  {
   "cell_type": "code",
   "execution_count": null,
   "metadata": {},
   "outputs": [],
   "source": [
    "def plot_images(imgs, names):\n",
    "    \"\"\"Plot images vertically\n",
    "    \n",
    "    Params:\n",
    "        imgs(list): list of images\n",
    "        names(list): list of figure titles\n",
    "    \"\"\"\n",
    "    \n",
    "    n = len(imgs)\n",
    "    plt.figure(figsize = (20 * n, 20))\n",
    "    \n",
    "    for i in range(n):\n",
    "        plt.subplot(n, 1, i + 1)\n",
    "        plt.imshow(imgs[i])\n",
    "        plt.title(names[i])\n",
    "\n",
    "    plt.show()"
   ]
  },
  {
   "cell_type": "markdown",
   "metadata": {},
   "source": [
    "# Color Convert"
   ]
  },
  {
   "cell_type": "code",
   "execution_count": null,
   "metadata": {},
   "outputs": [],
   "source": [
    "# COPIED FROM https://github.com/poolio/bilateral_solver\n",
    "\n",
    "RGB_TO_YUV = np.array([\n",
    "    [ 0.299,     0.587,     0.114],\n",
    "    [-0.168736, -0.331264,  0.5],\n",
    "    [ 0.5,      -0.418688, -0.081312]])\n",
    "YUV_TO_RGB = np.array([\n",
    "    [1.0,  0.0,      1.402],\n",
    "    [1.0, -0.34414, -0.71414],\n",
    "    [1.0,  1.772,    0.0]])\n",
    "YUV_OFFSET = np.array([0, 128.0, 128.0]).reshape(1, 1, -1)\n",
    "\n",
    "def rgb2yuv(im):\n",
    "    return np.tensordot(im, RGB_TO_YUV, ([2], [1])) + YUV_OFFSET\n",
    "\n",
    "def yuv2rgb(im):\n",
    "    return np.tensordot(im.astype(float) - YUV_OFFSET, YUV_TO_RGB, ([2], [1]))"
   ]
  },
  {
   "cell_type": "markdown",
   "metadata": {},
   "source": [
    "# Bilateral Grid"
   ]
  },
  {
   "cell_type": "code",
   "execution_count": null,
   "metadata": {},
   "outputs": [],
   "source": [
    "def build_W(yuv_im, param):\n",
    "    \"\"\"Create the grid coordinates and the blur matrix\n",
    "    \n",
    "    Params:\n",
    "        yum_im (np.array): reference image in YUV color space\n",
    "        param (dict): provide parameters\n",
    "        \n",
    "    Returns:\n",
    "        S (np.array): of size num_voxels x num_verticals\n",
    "        B_ (np.array): of size num_verticals x num_verticals\n",
    "    \n",
    "    \"\"\"\n",
    "\n",
    "    n_row, n_col, _ = yuv_im.shape\n",
    "    nb_pixels = n_row * n_col\n",
    "    \n",
    "    # [1, 255, 255^2, 255^3, 255^4] -> [col, row, y, u, v]\n",
    "    hashing_vector = np.zeros(5)\n",
    "    for i in range(5):\n",
    "        hashing_vector[i] = 255 ** i\n",
    "\n",
    "    # a dict from hash number to index\n",
    "    hashed_coords = {}\n",
    "    \n",
    "    vertical_idx = 0\n",
    "    pixel_idx = 0\n",
    "    splat_idxs = np.zeros(nb_pixels)\n",
    "    \n",
    "    for col_idx in range(n_col):\n",
    "        for row_idx in range(n_row):\n",
    "            coord = np.zeros(5)\n",
    "            coord[0] = row_idx // param['sigma_spatial']\n",
    "            coord[1] = col_idx // param['sigma_spatial']\n",
    "            coord[2] = yuv_im[row_idx, col_idx, 0] // param['sigma_luma']\n",
    "            coord[3] = yuv_im[row_idx, col_idx, 1] // param['sigma_chroma']\n",
    "            coord[4] = yuv_im[row_idx, col_idx, 2] // param['sigma_chroma']\n",
    "            \n",
    "            hashed_coord = sum([coord[i] * hashing_vector[i] for i in range(5)])\n",
    "            \n",
    "            if hashed_coord in hashed_coords:\n",
    "                splat_idxs[pixel_idx] = hashed_coords[hashed_coord]\n",
    "            else:\n",
    "                hashed_coords[hashed_coord] = vertical_idx\n",
    "                splat_idxs[pixel_idx] = vertical_idx\n",
    "                vertical_idx += 1\n",
    "            \n",
    "            pixel_idx += 1\n",
    "            \n",
    "    n_vertices = len(hashed_coords)\n",
    "    \n",
    "    # (data, (row_idx, col_idx))\n",
    "    S = csr_matrix((np.ones(nb_pixels), (splat_idxs.astype(int), np.arange(nb_pixels))))\n",
    "    B_ = eye(n_vertices) * 10 # 2 * 5\n",
    "    \n",
    "    func_mask = np.vectorize(lambda x: x in hashed_coords)\n",
    "    func_coords = np.vectorize(lambda x: hashed_coords[x])\n",
    "    \n",
    "    # Convolution [1, 2, 1] ^ 5\n",
    "    for offset in (-1, 1):\n",
    "        for i in range(5):\n",
    "            offset_hashed_coord = offset * hashing_vector[i]\n",
    "            centers = np.array(list(hashed_coords.keys()))\n",
    "            neighbors = centers + offset_hashed_coord\n",
    "            mask = func_mask(neighbors)\n",
    "\n",
    "            coords_centers = func_coords(centers[mask])\n",
    "            coords_neighbors = func_coords(neighbors[mask])\n",
    "\n",
    "            nb_neighbors = len(coords_centers)\n",
    "            B_temp = csr_matrix((np.ones(nb_neighbors), (coords_centers, coords_neighbors)), shape = (n_vertices, n_vertices))\n",
    "            B_ += B_temp\n",
    "            \n",
    "    return S, B_"
   ]
  },
  {
   "cell_type": "code",
   "execution_count": null,
   "metadata": {},
   "outputs": [],
   "source": [
    "def init_solution(S, confidence, target):\n",
    "    \"\"\"Naive solution by performing convolution\n",
    "    \n",
    "    Params:\n",
    "        S: matrix of grid_coordinates\n",
    "        confidence: confidence map\n",
    "        target: target map\n",
    "        \n",
    "    Returns:\n",
    "        x_hat: solution in coordinate\n",
    "        y_hat: solution in bilateral space\n",
    "    \"\"\"\n",
    "\n",
    "    s_ct = S.dot(confidence * target)\n",
    "    s_c = S.dot(confidence)\n",
    "    \n",
    "    y_hat = s_ct / s_c\n",
    "    x_hat = S.T.dot(y_hat).reshape(confidence.shape[::-1]).T\n",
    "    \n",
    "    return x_hat, y_hat"
   ]
  },
  {
   "cell_type": "markdown",
   "metadata": {},
   "source": [
    "# Bilateral Solver"
   ]
  },
  {
   "cell_type": "code",
   "execution_count": null,
   "metadata": {},
   "outputs": [],
   "source": [
    "def bistochastization(S, B_, max_iter = 10):\n",
    "    \"\"\"Make all rows and columns have the same mean value\n",
    "    \n",
    "    Params:\n",
    "        S: grid_coordinates\n",
    "        B_: blur matrix\n",
    "        max_iter: number of iterations\n",
    "        \n",
    "    Returns:\n",
    "        Dn (csr matrix)\n",
    "        Dm (csr matrix) \n",
    "    \"\"\"\n",
    "    \n",
    "    # S.sum(1)\n",
    "    m = S.dot(np.ones(S.shape[1]))\n",
    "    n = np.ones(S.shape[0])\n",
    "    \n",
    "    for _ in range(max_iter):\n",
    "        num = n * m\n",
    "        den = B_.dot(n)\n",
    "        n = np.sqrt(np.divide(num, den))\n",
    "    \n",
    "    # Correct m to satisfy the assumption of bistochastization regardless\n",
    "    # of how many iterations have been run.\n",
    "    m = n * (B_.dot(n))\n",
    "\n",
    "    return diags(n, 0, format = 'csr'), diags(m, 0, format = 'csr')"
   ]
  },
  {
   "cell_type": "code",
   "execution_count": null,
   "metadata": {},
   "outputs": [],
   "source": [
    "def build_A(S, B_, D_n, D_m, conf, lamb):\n",
    "    \"\"\"Calculate A\n",
    "    \n",
    "    Params:\n",
    "        S: grid_coordinates\n",
    "        B_: blur matrix\n",
    "        Dn: bistochastic matrix\n",
    "        Dm: bistochastic matrix\n",
    "        conf: confidence map\n",
    "        lamb: coefficient for bilateral term\n",
    "        \n",
    "    Returns:\n",
    "        A: of size num_voxels x num_voxels  \n",
    "    \"\"\"\n",
    "\n",
    "    A = lamb * (D_m - D_n.dot(B_.dot(D_n))) + diags(np.squeeze(S.dot(conf.reshape((-1, 1)))), format = 'csr')\n",
    "    \n",
    "    return A"
   ]
  },
  {
   "cell_type": "code",
   "execution_count": null,
   "metadata": {},
   "outputs": [],
   "source": [
    "def build_b(S, conf, target):\n",
    "    \"\"\"Calculate b\n",
    "    \n",
    "    Params:\n",
    "        S: grid_coordinates\n",
    "        conf: confidence map\n",
    "        target: target map\n",
    "        \n",
    "    Returns:\n",
    "        b: of size num_voxels x 1\n",
    "    \"\"\"\n",
    "    \n",
    "    dot_prod = (conf * target).reshape((-1, 1))\n",
    "    \n",
    "    return S.dot(dot_prod)"
   ]
  },
  {
   "cell_type": "code",
   "execution_count": null,
   "metadata": {},
   "outputs": [],
   "source": [
    "def naive_preconditioner(A):\n",
    "    \"\"\"Jacobi preconditioner for A\n",
    "    \n",
    "    Params:\n",
    "        A: of size num_voxels x num_voxels\n",
    "        \n",
    "    Returns:\n",
    "        M_inv: jacobi preconditioner\n",
    "    \"\"\"\n",
    "    \n",
    "    M_inv = diags(1. / A.diagonal(), 0)\n",
    "    \n",
    "    return M_inv"
   ]
  },
  {
   "cell_type": "code",
   "execution_count": null,
   "metadata": {},
   "outputs": [],
   "source": [
    "def cg_solver(A, b, M_inv, y0, max_iter = 50):\n",
    "    \"\"\"Solve Ay = b\n",
    "    \n",
    "    Params:\n",
    "        A: of size num_voxels x num_voxels\n",
    "        b: of size num_voxels x 1\n",
    "        M_inv: preconditioner for A\n",
    "        y0: initial solution\n",
    "        max_iter: maximum number of iterations\n",
    "        \n",
    "    Return:    \n",
    "        y: solution\n",
    "    \"\"\"\n",
    "    \n",
    "    y = cg(A, b, M = M_inv, maxiter = max_iter, x0 = y0)\n",
    "    \n",
    "    return y"
   ]
  },
  {
   "cell_type": "markdown",
   "metadata": {},
   "source": [
    "# Oracle"
   ]
  },
  {
   "cell_type": "code",
   "execution_count": null,
   "metadata": {},
   "outputs": [],
   "source": [
    "def bilateral_grid(ref, scaled_confidence, scaled_target, grid_params):\n",
    "    \"\"\"Oracle for bilateral grid\n",
    "    \n",
    "    Params:\n",
    "        ref: reference image in RGB color space\n",
    "        scaled_confidence: scaled confidence map\n",
    "        scaled_target: scaled target map\n",
    "        grid_params: parameters for the oracle\n",
    "        \n",
    "    Returns:\n",
    "        S: grid coordinate\n",
    "        B_: blur matrix\n",
    "        x0: naive solution in coordinate space\n",
    "        y0: naive solution in bilateral space\n",
    "    \"\"\"\n",
    "    \n",
    "    print(\"Convert image to YUV space...\")\n",
    "    ref_yuv = rgb2yuv(ref)\n",
    "    print(\"Image size: \", ref_yuv.shape)\n",
    "    print(\"Min pixel value: \", ref_yuv.min((0, 1)))\n",
    "    print(\"Max pixel value: \", ref_yuv.max((0, 1)))\n",
    "    \n",
    "    print(\"\\nBuild S and B...\")\n",
    "    S, B_ = build_W(ref_yuv, grid_params)\n",
    "    \n",
    "    print(\"\\nCalculate solution...\")\n",
    "    x0, y0 = init_solution(S, scaled_confidence, scaled_target)\n",
    "    print(\"\\nFinish!\")\n",
    "    \n",
    "    results = {'S': S, 'B_': B_, 'x0': x0, 'y0': y0}\n",
    "    \n",
    "    return results"
   ]
  },
  {
   "cell_type": "code",
   "execution_count": null,
   "metadata": {},
   "outputs": [],
   "source": [
    "def bilateral_solver(scaled_confidence, scaled_target, grid_results, img_shape, solver_params):\n",
    "    \"\"\"Oracle for bilateral solver\n",
    "    \n",
    "    Params:\n",
    "        scaled_confidence: scaled confidence map\n",
    "        scaled_target: scaled target map\n",
    "        grid_results: solutions from bilateral grid\n",
    "        img_shape: shape of the output map\n",
    "        solver_params: parameters for the oracle\n",
    "    \n",
    "    Returns:\n",
    "        x: final solution in coordinate space\n",
    "    \"\"\"\n",
    "    \n",
    "    S, B_, y0 = grid_results['S'], grid_results['B_'], grid_results['y0']\n",
    "    \n",
    "    print(\"Bistochastization S and B...\")\n",
    "    D_n, D_m = bistochastization(S, B_, solver_params['max_iter_bisto'])\n",
    "    \n",
    "    print(\"\\nCalculate A and b...\")\n",
    "    A = build_A(S, B_, D_n, D_m, scaled_confidence, solver_params[\"lambda\"])\n",
    "    b = b = build_b(S, scaled_confidence, scaled_target)\n",
    "    \n",
    "    print(\"\\nPreconditionning...\")\n",
    "    M_inv = naive_preconditioner(A)\n",
    "    \n",
    "    print(\"\\nSolve Ay = b...\")\n",
    "    y, flag = cg_solver(A, b, M_inv, y0, solver_params['max_iter_cg'])\n",
    "    \n",
    "    assert(flag >= 0), \"Conjugate gradient solve failed!\"\n",
    "    \n",
    "    print(\"\\nCalculate x...\")\n",
    "    x = S.T.dot(y).reshape(img_shape).T\n",
    "    print(\"\\nFinish!\")\n",
    "    \n",
    "    return x"
   ]
  },
  {
   "cell_type": "markdown",
   "metadata": {},
   "source": [
    "# Experiments"
   ]
  },
  {
   "cell_type": "code",
   "execution_count": null,
   "metadata": {},
   "outputs": [],
   "source": [
    "reference, target, confidence = read_images(PATH_TO_DATA, ['reference.png', 'target.png', 'confidence.png'])\n",
    "print(\"Image Size:\", reference.shape)"
   ]
  },
  {
   "cell_type": "code",
   "execution_count": null,
   "metadata": {},
   "outputs": [],
   "source": [
    "plot_images([reference, target, confidence], \n",
    "            ['reference', 'target', 'confidence'])"
   ]
  },
  {
   "cell_type": "code",
   "execution_count": null,
   "metadata": {},
   "outputs": [],
   "source": [
    "scaled_t = target.T.reshape(-1, 1).astype(np.double) / (pow(2, 16) - 1)\n",
    "scaled_c = confidence.T.reshape(-1, 1).astype(np.double) / (pow(2, 16) - 1)"
   ]
  },
  {
   "cell_type": "code",
   "execution_count": null,
   "metadata": {},
   "outputs": [],
   "source": [
    "grid_results = bilateral_grid(reference, scaled_c, scaled_t, grid_params)"
   ]
  },
  {
   "cell_type": "code",
   "execution_count": null,
   "metadata": {},
   "outputs": [],
   "source": [
    "out_shape = reference.shape[:2][::-1]\n",
    "x = bilateral_solver(scaled_c, scaled_t, grid_results, out_shape, solver_params)"
   ]
  },
  {
   "cell_type": "code",
   "execution_count": null,
   "metadata": {},
   "outputs": [],
   "source": [
    "plot_images([target, grid_results['x0'].reshape(x.shape), x], \n",
    "            ['input', 'grid output', 'solver output'])"
   ]
  },
  {
   "cell_type": "markdown",
   "metadata": {},
   "source": [
    "# Stéréo - Test"
   ]
  },
  {
   "cell_type": "code",
   "execution_count": null,
   "metadata": {},
   "outputs": [],
   "source": [
    "def gen_output_from_param(path_to_data, image_names, grid_params, solver_params):\n",
    "    reference, target, confidence, ground_truth = read_images(path_to_data, image_names)\n",
    "    \n",
    "    scaled_t = target.T.reshape(-1, 1).astype(np.double) / (pow(2, 16) - 1)\n",
    "    scaled_c = confidence.T.reshape(-1, 1).astype(np.double) / (pow(2, 16) - 1)\n",
    "    \n",
    "    grid_results = bilateral_grid(reference, scaled_c, scaled_t, grid_params)\n",
    "    out_shape = reference.shape[:2][::-1]\n",
    "    \n",
    "    x = bilateral_solver(scaled_c, scaled_t, grid_results, out_shape, solver_params)\n",
    "    \n",
    "    value = np.linalg.norm(ground_truth - x)\n",
    "    \n",
    "    return x, value"
   ]
  },
  {
   "cell_type": "code",
   "execution_count": null,
   "metadata": {},
   "outputs": [],
   "source": [
    "def test_stereo(path_to_data, data_sets, image_names, grid_range, solver_range):\n",
    "    \n",
    "    spatial_values = []\n",
    "    luma_values = []\n",
    "    chroma_values = []\n",
    "    lambda_values = []\n",
    "    \n",
    "    for data_set in data_sets:\n",
    "        i = 0\n",
    "        max_i = np.sum(np.array([len(grid_range_value[1]) \n",
    "                                 for grid_range_value in grid_range.values()])) \\\n",
    "                + len(solver_range['lambda'][1])\n",
    "        \n",
    "        path_to_images = os.path.join(PATH_TO_DATA, data_set)\n",
    "        # Check spatial influence :\n",
    "        grid_params = {\n",
    "            'sigma_luma': grid_range['sigma_luma'][0],\n",
    "            'sigma_chroma': grid_range['sigma_chroma'][0],\n",
    "                     }\n",
    "        solver_params = {\n",
    "            'max_iter_bisto': solver_range['max_iter_bisto'],\n",
    "            'max_iter_cg': solver_range['max_iter_cg'],\n",
    "            'lambda': solver_range['lambda'][0]\n",
    "        }\n",
    "        for sigma_spatial in grid_range['sigma_spatial'][1]:\n",
    "            print('Dataset : {}, step {}/{}.'.format(data_set, i, max_i))\n",
    "            i += 1\n",
    "            grid_params['sigma_spatial'] = sigma_spatial\n",
    "            x, value = gen_output_from_param(path_to_images, image_names, grid_params, solver_params)\n",
    "            spatial_values.append((x, value))\n",
    "            \n",
    "        # Check luma influence :\n",
    "        grid_params = {\n",
    "            'sigma_spatial': grid_range['sigma_spatial'][0],\n",
    "            'sigma_chroma': grid_range['sigma_chroma'][0],\n",
    "                     }\n",
    "        solver_params = {\n",
    "            'max_iter_bisto': solver_range['max_iter_bisto'],\n",
    "            'max_iter_cg': solver_range['max_iter_cg'],\n",
    "            'lambda': solver_range['lambda'][0]\n",
    "        }\n",
    "        for sigma_luma in grid_range['sigma_luma'][1]:\n",
    "            print('Dataset : {}, step {}/{}.'.format(data_set, i, max_i))\n",
    "            i += 1\n",
    "            grid_params['sigma_luma'] = sigma_luma\n",
    "            _, value = gen_output_from_param(path_to_images, image_names, grid_params, solver_params)\n",
    "            luma_values.append((x, value))\n",
    "            \n",
    "        # Check chroma influence :\n",
    "        grid_params = {\n",
    "            'sigma_spatial': grid_range['sigma_spatial'][0],\n",
    "            'sigma_luma': grid_range['sigma_luma'][0],\n",
    "                     }\n",
    "        solver_params = {\n",
    "            'max_iter_bisto': solver_range['max_iter_bisto'],\n",
    "            'max_iter_cg': solver_range['max_iter_cg'],\n",
    "            'lambda': solver_range['lambda'][0]\n",
    "        }\n",
    "        for sigma_chroma in grid_range['sigma_chroma'][1]:\n",
    "            print('Dataset : {}, step {}/{}.'.format(data_set, i, max_i))\n",
    "            i += 1\n",
    "            grid_params['sigma_chroma'] = sigma_chroma\n",
    "            _, value = gen_output_from_param(path_to_images, image_names, grid_params, solver_params)\n",
    "            chroma_values.append((x, value))\n",
    "            \n",
    "        \n",
    "        # Check lambda influence :\n",
    "        grid_params = {\n",
    "            'sigma_spatial': grid_range['sigma_spatial'][0],\n",
    "            'sigma_luma': grid_range['sigma_luma'][0],\n",
    "            'sigma_chroma': grid_range['sigma_chroma'][0],\n",
    "                     }\n",
    "        solver_params = {\n",
    "            'max_iter_bisto': solver_range['max_iter_bisto'],\n",
    "            'max_iter_cg': solver_range['max_iter_cg'],\n",
    "        }\n",
    "        for lamb in solver_range['lambda'][1]:\n",
    "            print('Dataset : {}, step {}/{}.'.format(data_set, i, max_i))\n",
    "            i += 1\n",
    "            solver_params['lambda'] = lamb\n",
    "            _, value = gen_output_from_param(path_to_images, image_names, grid_params, solver_params)\n",
    "            lambda_values.append((x, value))\n",
    "        \n",
    "    return spatial_values, luma_values, chroma_values, lambda_values\n",
    "   "
   ]
  },
  {
   "cell_type": "code",
   "execution_count": null,
   "metadata": {},
   "outputs": [],
   "source": [
    "PATH_TO_DATA = os.getcwd() + '/../data/test_set/'\n",
    "data_sets = ['art', 'books', 'mobius']\n",
    "image_names = ['reference.png', 'target.png', 'confidence.png', 'gt.png']\n",
    "grid_range = {\n",
    "    'sigma_spatial': (8, [1]),# 4, 8, 16, 32])\n",
    "    'sigma_luma': (4, [0.5]),#, 1, 2, 4, 8, 16]) \n",
    "    'sigma_chroma': (4, [0.5]),#, 1, 2, 4, 8, 16])\n",
    "}\n",
    "solver_range = {\n",
    "    'max_iter_bisto': 10,\n",
    "    'max_iter_cg': 25,\n",
    "    'lambda': (128, [64]),#, 128, 256]\n",
    "}"
   ]
  },
  {
   "cell_type": "code",
   "execution_count": null,
   "metadata": {},
   "outputs": [],
   "source": [
    "test_output = test_stereo(PATH_TO_DATA, data_sets, image_names, grid_range, solver_range)"
   ]
  },
  {
   "cell_type": "code",
   "execution_count": null,
   "metadata": {},
   "outputs": [],
   "source": []
  }
 ],
 "metadata": {
  "kernelspec": {
   "display_name": "Python 3",
   "language": "python",
   "name": "python3"
  },
  "language_info": {
   "codemirror_mode": {
    "name": "ipython",
    "version": 3
   },
   "file_extension": ".py",
   "mimetype": "text/x-python",
   "name": "python",
   "nbconvert_exporter": "python",
   "pygments_lexer": "ipython3",
   "version": "3.5.2"
  }
 },
 "nbformat": 4,
 "nbformat_minor": 2
}
