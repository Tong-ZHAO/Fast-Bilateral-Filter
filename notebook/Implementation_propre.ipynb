{
 "cells": [
  {
   "cell_type": "code",
   "execution_count": null,
   "metadata": {},
   "outputs": [],
   "source": [
    "from scipy.sparse import csr_matrix\n",
    "from skimage.io import imread\n",
    "\n",
    "import cv2\n",
    "import matplotlib.pyplot as plt\n",
    "import numpy as np\n",
    "import os"
   ]
  },
  {
   "cell_type": "code",
   "execution_count": null,
   "metadata": {},
   "outputs": [],
   "source": [
    "PATH_TO_DATA = '../data/depth_superres/'\n",
    "\n",
    "reference = imread(os.path.join(PATH_TO_DATA, 'reference.png'))\n",
    "target = imread(os.path.join(PATH_TO_DATA, 'target.png'))\n",
    "confidence = imread(os.path.join(PATH_TO_DATA, 'confidence.png'))"
   ]
  },
  {
   "cell_type": "code",
   "execution_count": null,
   "metadata": {},
   "outputs": [],
   "source": [
    "print(target.shape)"
   ]
  },
  {
   "cell_type": "code",
   "execution_count": null,
   "metadata": {},
   "outputs": [],
   "source": [
    "plt.figure(figsize=(20, 20))\n",
    "plt.subplot(311)\n",
    "plt.imshow(reference)\n",
    "plt.title('reference')\n",
    "plt.subplot(312)\n",
    "plt.imshow(confidence)\n",
    "plt.title('confidence')\n",
    "plt.subplot(313)\n",
    "plt.imshow(target)\n",
    "plt.title('target')\n",
    "plt.show()"
   ]
  },
  {
   "cell_type": "code",
   "execution_count": null,
   "metadata": {},
   "outputs": [],
   "source": [
    "# COPIED FROM SOMEWHERE (need source)\n",
    "RGB_TO_YUV = np.array([\n",
    "    [ 0.299,     0.587,     0.114],\n",
    "    [-0.168736, -0.331264,  0.5],\n",
    "    [ 0.5,      -0.418688, -0.081312]])\n",
    "YUV_TO_RGB = np.array([\n",
    "    [1.0,  0.0,      1.402],\n",
    "    [1.0, -0.34414, -0.71414],\n",
    "    [1.0,  1.772,    0.0]])\n",
    "YUV_OFFSET = np.array([0, 128.0, 128.0]).reshape(1, 1, -1)\n",
    "\n",
    "def rgb2yuv(im):\n",
    "    return np.tensordot(im, RGB_TO_YUV, ([2], [1])) + YUV_OFFSET\n",
    "\n",
    "def yuv2rgb(im):\n",
    "    return np.tensordot(im.astype(float) - YUV_OFFSET, YUV_TO_RGB, ([2], [1]))"
   ]
  },
  {
   "cell_type": "code",
   "execution_count": null,
   "metadata": {},
   "outputs": [],
   "source": [
    "reference_yuv = rgb2yuv(reference)"
   ]
  },
  {
   "cell_type": "code",
   "execution_count": null,
   "metadata": {},
   "outputs": [],
   "source": [
    "print(reference_yuv.shape)\n",
    "print(reference_yuv[20, 1200, 0])"
   ]
  },
  {
   "cell_type": "code",
   "execution_count": null,
   "metadata": {},
   "outputs": [],
   "source": [
    "# TODO : names based on the paper.\n",
    "def build_b():\n",
    "    pass\n",
    "\n",
    "def initialise_x():\n",
    "    pass\n",
    "\n",
    "def preconditioner():\n",
    "    pass\n",
    "\n",
    "def solver():\n",
    "    pass"
   ]
  },
  {
   "cell_type": "code",
   "execution_count": null,
   "metadata": {},
   "outputs": [],
   "source": [
    "def build_W(im, param):\n",
    "    \n",
    "    yuv_im = rgb2yuv(im)\n",
    "    n_row, n_col, _ = yuv_im.shape\n",
    "    nb_pixels = n_row * n_col\n",
    "    \n",
    "    hashing_vector = np.zeros(5)\n",
    "    for i in range(5):\n",
    "        hashing_vector[i] = 255**i\n",
    "    \n",
    "    hashed_coords = {}\n",
    "    \n",
    "    vertical_idx = 0\n",
    "    pixel_idx = 0\n",
    "    \n",
    "    splat_idxs = np.zeros(nb_pixels)\n",
    "    for col_idx in range(n_col):\n",
    "        for row_idx in range(n_row):\n",
    "            coord = np.zeros(5)\n",
    "            coord[0] = int(col_dix / param['sigma_spatial'])\n",
    "            coord[1] = int(row_idx / param['sigma_spatial'])\n",
    "            coord[2] = int(yuv_im[col_dix, row_idx, 0] / param['sigma_luma'])\n",
    "            coord[3] = int(yuv_im[col_dix, row_idx, 1] / param['sigma_chroma'])\n",
    "            coord[4] = int(yuv_im[col_dix, row_idx, 2] / param['sigma_chroma'])\n",
    "            \n",
    "            hashed_coord = np.sum([coord[i] * hashing_vector[i] for i in range(5)])\n",
    "            \n",
    "            if hashed_coord in hashed_coords:\n",
    "                splat_idxs[pixel_idx] = hashed_coords[hashed_coord]\n",
    "            else:\n",
    "                hashed_coords[hashed_coord] = vertical_idx\n",
    "                splat_idxs[pixel_idx] = vertical_idx\n",
    "                vertical_idx += 1\n",
    "            \n",
    "            pixel_idx += 1\n",
    "            \n",
    "    n_vertices = len(hashed_coords)\n",
    "    \n",
    "    S = csr_matrix((np.ones(nb_pixels), (splat_idxs, np.arange(nb_pixels))))\n",
    "    \n",
    "    B_ = np.eye(n_vertices) * 10\n",
    "    \n",
    "    for offset in (-1, 1):\n",
    "        for i in range(5):\n",
    "            B_temp = np.zeros(n_vertices, n_vertices)\n",
    "            offset_hashed_coord = offset * hashing_vector[i]\n",
    "            for hashed_coord in hashed_coords.keys():\n",
    "                neighbor = hashed_coord + offset_hashed_coord\n",
    "                if neighbor in hashed_coords.keys():\n",
    "                    B_temp[hashed_coords[hashed_coord], hashed_coords[neighbor]] = 1\n",
    "            B_ += B_temp\n",
    "            \n",
    "    return S, B_\n",
    "    "
   ]
  },
  {
   "cell_type": "code",
   "execution_count": null,
   "metadata": {},
   "outputs": [],
   "source": [
    "def bistochastization(S, B_, max_iter=10):\n",
    "    m = np.dot(S, np.ones(S.shape[1]))\n",
    "    n = np.ones(S.shape[0])\n",
    "    \n",
    "    it = 0\n",
    "    while it < max_iter:\n",
    "        it += 1\n",
    "        num = n * m\n",
    "        den = np.dot(B_, n)\n",
    "        n = np.sqrt(np.divide(num, den))\n",
    "\n",
    "    return np.diag(n), np.diag(m)\n",
    "    \n",
    "def build_A(reference_im, conf, param):\n",
    "    S, B_ = build_W(reference_im, param)\n",
    "    \n",
    "    D_n, D_m = bistochastization(S, B_, param['max_iter_bisto'])\n",
    "    \n",
    "    Lam = param['lambda']\n",
    "    \n",
    "    A = Lam * (D_m - np.dot(D_n, np.dot(B_, D_n))) + np.diag(np.dot(S, conf))\n",
    "    \n",
    "    return A"
   ]
  },
  {
   "cell_type": "code",
   "execution_count": null,
   "metadata": {},
   "outputs": [],
   "source": []
  },
  {
   "cell_type": "code",
   "execution_count": null,
   "metadata": {},
   "outputs": [],
   "source": []
  }
 ],
 "metadata": {
  "kernelspec": {
   "display_name": "Python 3",
   "language": "python",
   "name": "python3"
  },
  "language_info": {
   "codemirror_mode": {
    "name": "ipython",
    "version": 3
   },
   "file_extension": ".py",
   "mimetype": "text/x-python",
   "name": "python",
   "nbconvert_exporter": "python",
   "pygments_lexer": "ipython3",
   "version": "3.5.2"
  }
 },
 "nbformat": 4,
 "nbformat_minor": 2
}
